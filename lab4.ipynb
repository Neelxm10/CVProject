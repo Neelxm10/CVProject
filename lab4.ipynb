{
 "cells": [
  {
   "cell_type": "code",
   "execution_count": null,
   "metadata": {},
   "outputs": [],
   "source": [
    "import cv2 as cv\n",
    "from matplotlib import pyplot as plt\n",
    "import numpy as np\n",
    "import os\n",
    "from ransac import ransac"
   ]
  },
  {
   "cell_type": "code",
   "execution_count": null,
   "metadata": {},
   "outputs": [
    {
     "ename": "",
     "evalue": "",
     "output_type": "error",
     "traceback": [
      "\u001b[1;31mRunning cells with '/bin/python3' requires the ipykernel package.\n",
      "\u001b[1;31mRun the following command to install 'ipykernel' into the Python environment. \n",
      "\u001b[1;31mCommand: '/bin/python3 -m pip install ipykernel -U --user --force-reinstall'"
     ]
    }
   ],
   "source": [
    "#Currently converts image to HSV to test functionality. We can build algorithm here.\n",
    "img = cv.imread('Images/spheres2.jpg')\n",
    "    \n",
    "#show the original image\n",
    "plt.imshow('img reader', img)\n",
    "height, width = img.shape[:2]\n",
    "\n",
    "# Define the ROI parameters\n",
    "top_margin = height // 6  # 1/8th of the height from the top\n",
    "bottom_margin = height // 6 # 1/8th of the height from the bottom\n",
    "side_margin = width // 14 # 1/4th of the width from each side\n",
    "\n",
    "# Applying ROI mask\n",
    "roi = img[top_margin:height - bottom_margin, side_margin:width - side_margin]\n",
    "avgkernel = np.ones((8,8),np.float32)/(64)\n",
    "dst = cv.filter2D(roi,-1,avgkernel)\n",
    "gaussBlur = cv.GaussianBlur(dst, (5,5), 3)\n",
    "# Convert the image to grayscale\n",
    "# gray_img = cv.cvtColor(roi, cv.COLOR_BGR2GRAY)\n",
    "gray_img = cv.cvtColor(gaussBlur, cv.COLOR_BGR2GRAY)\n",
    "\n",
    "# Ensure that the image is of type CV_8UC1\n",
    "if gray_img.dtype != np.uint8:\n",
    "    gray_img = cv.convertScaleAbs(gray_img)\n",
    "\n",
    "#Apply Otsu's thresholding\n",
    "ret, mask = cv.threshold(gray_img, 0, 255, cv.THRESH_BINARY + cv.THRESH_OTSU)\n",
    "  \n",
    "#create structuring element and use it to perform opening mask\n",
    "disc = cv.getStructuringElement(cv.MORPH_RECT, (5,5))\n",
    "plt.imshow('mask', mask)\n",
    "plt.imshow()  \n",
    "#dilate, erode, and dilate again.\n",
    "eroded_mask = cv.erode(mask, disc,200)\n",
    "# dilated_mask = cv.dilate(eroded_mask, disc, 5)\n",
    "dilated_mask = cv.dilate(eroded_mask, disc, 100)\n",
    "plt.imshow('mask', dilated_mask)\n",
    "plt.show()   "
   ]
  }
 ],
 "metadata": {
  "kernelspec": {
   "display_name": "Python 3",
   "language": "python",
   "name": "python3"
  },
  "language_info": {
   "name": "python",
   "version": "3.10.12"
  }
 },
 "nbformat": 4,
 "nbformat_minor": 2
}
